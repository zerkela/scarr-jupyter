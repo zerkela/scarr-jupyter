{
 "cells": [
  {
   "cell_type": "markdown",
   "metadata": {},
   "source": [
    "## LRA Attack Using SCARR"
   ]
  },
  {
   "cell_type": "code",
   "execution_count": null,
   "metadata": {},
   "outputs": [],
   "source": [
    "from src.scarr.engines.lra import LRA as lra\n",
    "from src.scarr.engines.lra_i import LRA as lra_i\n",
    "from src.scarr.engines.lra_wht import LRA as lra_wht\n",
    "\n",
    "from src.scarr.file_handling.trace_handler import TraceHandler as th\n",
    "from src.scarr.container.container import Container, ContainerOptions\n",
    "\n",
    "handler = th(fileName='./benchmark_medium_sw_aes128_compressed.zarr', batchSize=5000)\n",
    "\n",
    "engine = lra()\n",
    "engine_i = lra_i()\n",
    "engine_wht = lra_wht()\n",
    "\n",
    "container = Container(options=ContainerOptions(engine=engine, handler=handler), model_positions= [x for x in range(2)])\n",
    "container_i = Container(options=ContainerOptions(engine=engine_i, handler=handler), model_positions= [x for x in range(16)])\n",
    "container_wht = Container(options=ContainerOptions(engine=engine_wht, handler=handler), model_positions= [x for x in range(16)])"
   ]
  },
  {
   "cell_type": "code",
   "execution_count": null,
   "metadata": {},
   "outputs": [],
   "source": [
    "# expected key: 2b7e151628aed2a6abf7158809cf4f3c\n",
    "engine.run(container, samples_range=(0,5000))"
   ]
  },
  {
   "cell_type": "code",
   "execution_count": null,
   "metadata": {},
   "outputs": [],
   "source": [
    "# expected key: 2b7e151628aed2a6abf7158809cf4f3c\n",
    "engine_i.run(container_i, samples_ranges=(0,5000))"
   ]
  },
  {
   "cell_type": "code",
   "execution_count": null,
   "metadata": {},
   "outputs": [],
   "source": [
    "# expected key: 2b7e151628aed2a6abf7158809cf4f3c\n",
    "engine_wht.run(container_wht, samples_ranges=(800,2000))"
   ]
  },
  {
   "cell_type": "markdown",
   "metadata": {},
   "source": []
  }
 ],
 "metadata": {
  "kernelspec": {
   "display_name": "Python 3",
   "language": "python",
   "name": "python3"
  },
  "language_info": {
   "codemirror_mode": {
    "name": "ipython",
    "version": 3
   },
   "file_extension": ".py",
   "mimetype": "text/x-python",
   "name": "python",
   "nbconvert_exporter": "python",
   "pygments_lexer": "ipython3",
   "version": "3.10.17"
  }
 },
 "nbformat": 4,
 "nbformat_minor": 2
}
