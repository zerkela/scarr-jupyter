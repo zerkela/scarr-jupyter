{
 "cells": [
  {
   "cell_type": "markdown",
   "metadata": {},
   "source": [
    "## DL-LA Attack Using SCARR"
   ]
  },
  {
   "cell_type": "markdown",
   "metadata": {},
   "source": [
    "Run the framework imports and setup the trace handlers, the engine, and engine's container"
   ]
  },
  {
   "cell_type": "code",
   "execution_count": null,
   "metadata": {},
   "outputs": [],
   "source": [
    "from scarr.engines.dl_la import DL_LA as dlla\n",
    "\n",
    "from scarr.file_handling.trace_handler import TraceHandler as th\n",
    "\n",
    "from scarr.container.container import Container, ContainerOptions\n",
    "\n",
    "handler1 = th(fileName='cs5_group0_even.zarr', batchSize=5000)\n",
    "handler2 = th(fileName='cs5_group1_even.zarr', batchSize=5000)\n",
    "\n",
    "engine = dlla('MLP', train_float=0.90, num_epochs=10) # params: model_type, training_float, num_epochs\n",
    "# engine = dlla('MLP', train_float=0.90, num_epochs=2) # params: model_type, training_float, num_epochs\n",
    "container = Container(options=ContainerOptions(engine=engine, handler=handler1, handler2=handler2), Async=True)\n"
   ]
  },
  {
   "cell_type": "markdown",
   "metadata": {},
   "source": [
    "Runing the model trianing can be done by setting the model_building variable to true."
   ]
  },
  {
   "cell_type": "code",
   "execution_count": null,
   "metadata": {},
   "outputs": [],
   "source": [
    "engine.run(container, model_building=True)   # params: container, train_only=False, validate_only=False "
   ]
  },
  {
   "cell_type": "markdown",
   "metadata": {},
   "source": [
    "Saved model loading is currently supported for further validation computations, but not a later sensitivity analysis. "
   ]
  },
  {
   "cell_type": "code",
   "execution_count": null,
   "metadata": {},
   "outputs": [],
   "source": [
    "# engine.save_model('model.pth')                # params: path\n",
    "# engine.load_model(container, 'model.pth')     # params: container, path"
   ]
  },
  {
   "cell_type": "markdown",
   "metadata": {},
   "source": [
    "Runing the model valiadation can be done by setting the model_validation variable to true."
   ]
  },
  {
   "cell_type": "code",
   "execution_count": null,
   "metadata": {},
   "outputs": [],
   "source": [
    "engine.run(container, model_validation=True)   # params: container, train_only=False, validate_only=False \n",
    "\n",
    "print(engine.get_accuracy())"
   ]
  },
  {
   "cell_type": "markdown",
   "metadata": {},
   "source": [
    "Get the sensitivity analysis values and print to chart"
   ]
  },
  {
   "cell_type": "code",
   "execution_count": null,
   "metadata": {},
   "outputs": [],
   "source": [
    "sens = engine.get_sensitivity()"
   ]
  },
  {
   "cell_type": "code",
   "execution_count": null,
   "metadata": {},
   "outputs": [],
   "source": [
    "import matplotlib.pyplot as plt\n",
    "\n",
    "print('Scarr Plot of DL-LA Sensitivity')\n",
    "fig, ax = plt.subplots(figsize=(8, 4))\n",
    "ax.plot(sens, color='red')\n",
    "\n",
    "ax.set_xlabel('Time Samples')\n",
    "ax.set_ylabel('Sensitivity')\n",
    "\n",
    "plt.show()"
   ]
  }
 ],
 "metadata": {
  "kernelspec": {
   "display_name": "Python 3",
   "language": "python",
   "name": "python3"
  },
  "language_info": {
   "codemirror_mode": {
    "name": "ipython",
    "version": 3
   },
   "file_extension": ".py",
   "mimetype": "text/x-python",
   "name": "python",
   "nbconvert_exporter": "python",
   "pygments_lexer": "ipython3",
   "version": "3.10.14"
  }
 },
 "nbformat": 4,
 "nbformat_minor": 2
}
